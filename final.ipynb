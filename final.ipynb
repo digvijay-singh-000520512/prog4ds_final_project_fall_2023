{
  "nbformat": 4,
  "nbformat_minor": 0,
  "metadata": {
    "colab": {
      "provenance": [],
      "authorship_tag": "ABX9TyMda9HcLQjdii5XKbMG348X",
      "include_colab_link": true
    },
    "kernelspec": {
      "name": "python3",
      "display_name": "Python 3"
    },
    "language_info": {
      "name": "python"
    }
  },
  "cells": [
    {
      "cell_type": "markdown",
      "metadata": {
        "id": "view-in-github",
        "colab_type": "text"
      },
      "source": [
        "<a href=\"https://colab.research.google.com/github/digvijay-singh-000520512/prog4ds_final_project_fall_2023/blob/main/final.ipynb\" target=\"_parent\"><img src=\"https://colab.research.google.com/assets/colab-badge.svg\" alt=\"Open In Colab\"/></a>"
      ]
    },
    {
      "cell_type": "code",
      "execution_count": 1,
      "metadata": {
        "id": "yIxkkTpwXqWi"
      },
      "outputs": [],
      "source": [
        "import pandas as pd\n",
        "\n",
        "confirmed_cases_global_url = \"https: //raw.githubusercontent.com/CSSEGISandData/COVID-19/master/csse_covid_19_data/csse_covid_19_time_series/time_series_covid19_confirmed_global.csv\"\n",
        "confirmed_deaths_global_url = \"https://raw.githubusercontent.com/CSSEGISandData/COVID-19/master/csse_covid_19_data/csse_covid_19_time_series/time_series_covid19_deaths_global.csv\"\n",
        "\n",
        "confirmed_cases_global_df = pd.read_csv(confirmed_deaths_global_url)\n",
        "confirmed_deaths_global_df = pd.read_csv(confirmed_deaths_global_url)"
      ]
    }
  ]
}